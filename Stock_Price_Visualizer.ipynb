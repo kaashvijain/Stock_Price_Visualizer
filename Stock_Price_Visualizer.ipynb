{
 "cells": [
  {
   "cell_type": "markdown",
   "id": "9f61e79c-4f19-44ee-9cf5-ab4b0a586c7e",
   "metadata": {},
   "source": [
    "## Install"
   ]
  },
  {
   "cell_type": "code",
   "execution_count": null,
   "id": "4f4c0e84-00a8-4477-aa54-361d93608c61",
   "metadata": {},
   "outputs": [],
   "source": [
    "!pip install yfinance"
   ]
  },
  {
   "cell_type": "code",
   "execution_count": null,
   "id": "5bc904ec-1a3e-4c80-a0b7-7e23ae17ea52",
   "metadata": {},
   "outputs": [],
   "source": [
    "!pip install ipywidgets"
   ]
  },
  {
   "cell_type": "markdown",
   "id": "1f670a16-37f3-4b05-aae2-0b15f76e0ab3",
   "metadata": {},
   "source": [
    "## Import Libraries"
   ]
  },
  {
   "cell_type": "code",
   "execution_count": null,
   "id": "00374979-0c31-462f-8a1d-aa559fa4fd20",
   "metadata": {},
   "outputs": [],
   "source": [
    "import yfinance as yf\n",
    "import matplotlib.pyplot as plt\n",
    "import ipywidgets as widgets\n",
    "from IPython.display import display\n",
    "from datetime import datetime\n",
    "print(\"All imported\")"
   ]
  },
  {
   "cell_type": "markdown",
   "id": "6e1897d7-dd55-477c-89ca-1c9e0ae4b0aa",
   "metadata": {},
   "source": [
    "## Few Example Symbols for Companies"
   ]
  },
  {
   "cell_type": "markdown",
   "id": "9bd07afd-dc86-494f-a944-904f7a3b5993",
   "metadata": {},
   "source": [
    "### International Companies\n",
    "1. Apple - AAPL\n",
    "2. Microsoft - MSFT\n",
    "3. Google - GOOGL\n",
    "4. Amazon - AMZN\n",
    "5. Tesla - TSLA\n",
    "\n",
    "### India Companies \n",
    "Note: Use .NS for NSE (National Stock Exchange)\n",
    "1. Reliance - RELIANCE.NS\n",
    "2. Infosys - INFY.NS\n",
    "3. Tata Consultancy Services - TCS.NS\n",
    "4. HDFC Bank - HDFCBANK.NS\n",
    "5. Larsen & Toubro - LT.NS\n",
    "\n",
    "#### **Comparing International and Indian Companies will not provide accurate results\n",
    "\n",
    "\n"
   ]
  },
  {
   "cell_type": "markdown",
   "id": "64828e12-71ef-4ce1-bcef-539b53376b38",
   "metadata": {},
   "source": [
    "## Plot for a specific company"
   ]
  },
  {
   "cell_type": "code",
   "execution_count": null,
   "id": "96c8901e-0972-4cda-85b7-91c8bd6be8e3",
   "metadata": {},
   "outputs": [],
   "source": [
    "# Company input \n",
    "stock_input = widgets.Text(values='', description = 'Ticker: ') \n",
    "display (stock_input)\n",
    "\n",
    "# Date Input\n",
    "start_input = widgets.Text(value='2020-01-01', description='Start Date:')\n",
    "end_input = widgets.Text(value=datetime.today().strftime('%Y-%m-%d'), description='End Date:')\n",
    "display(start_input, end_input)"
   ]
  },
  {
   "cell_type": "code",
   "execution_count": null,
   "id": "0cc9197b-a185-45c5-b9e8-dd55ad51cd5f",
   "metadata": {},
   "outputs": [],
   "source": [
    "ticker = stock_input.value  \n",
    "data = yf.download(ticker, start= start_input.value, end= end_input.value, auto_adjust=True)\n",
    "data['Close'].plot(figsize=(10, 5), title=f'{ticker} Stock Price')\n",
    "plt.xlabel('Year')\n",
    "plt.ylabel('Price')\n",
    "plt.legend()\n",
    "plt.grid(True)\n",
    "plt.savefig(f\"{ticker}_stock_plot.png\")\n",
    "plt.show()"
   ]
  },
  {
   "cell_type": "markdown",
   "id": "b1413944-49f1-4767-8c22-895056c86413",
   "metadata": {},
   "source": [
    "## Plot for Comparing Companies \n",
    "This will also \n",
    "1. Let you input start and end date, and\n",
    "2. How many and which companies you want to compare. "
   ]
  },
  {
   "cell_type": "markdown",
   "id": "07f88144-5a23-4cdb-ac2c-a814f2086d1e",
   "metadata": {},
   "source": [
    "#### Select number of Companies"
   ]
  },
  {
   "cell_type": "code",
   "execution_count": null,
   "id": "897dc6d5-18b0-4f3d-aa6d-3d9336de2cb7",
   "metadata": {},
   "outputs": [],
   "source": [
    "num_input = widgets.BoundedIntText(\n",
    "    value=2, \n",
    "    min=2,\n",
    "    max=10, \n",
    "    step=1,\n",
    "    description='How many companies: '\n",
    ")\n",
    "display(num_input)"
   ]
  },
  {
   "cell_type": "markdown",
   "id": "a7bb3104-113c-4a9a-acf1-77d6fbf9c7ff",
   "metadata": {},
   "source": [
    "#### Other Inputs"
   ]
  },
  {
   "cell_type": "code",
   "execution_count": null,
   "id": "dc6bb194-4946-421d-934d-976a2290cda9",
   "metadata": {},
   "outputs": [],
   "source": [
    "# Tickers and dates input \n",
    "start_input = widgets.Text(value='2020-01-01', description='Start Date:')\n",
    "end_input = widgets.Text(value=datetime.today().strftime('%Y-%m-%d'), description='End Date:')\n",
    "\n",
    "ticker_inputs = [widgets.Text(value='', description=f'Ticker {i+1}:') for i in range(num_input.value)]\n",
    "\n",
    "# Display\n",
    "display(start_input, end_input)\n",
    "for inp in ticker_inputs:\n",
    "    display(inp)"
   ]
  },
  {
   "cell_type": "markdown",
   "id": "1805ee7d-75d0-4c5f-87bd-5f9efc3f947d",
   "metadata": {},
   "source": [
    "#### Plot "
   ]
  },
  {
   "cell_type": "code",
   "execution_count": null,
   "id": "ba91b967-0151-46e5-90f9-72ff304009a7",
   "metadata": {},
   "outputs": [],
   "source": [
    "from datetime import datetime\n",
    "\n",
    "# Validate\n",
    "try:\n",
    "    start_date = datetime.strptime(start_input.value, \"%Y-%m-%d\").strftime('%Y-%m-%d')\n",
    "    end_date = datetime.strptime(end_input.value, \"%Y-%m-%d\").strftime('%Y-%m-%d')\n",
    "except ValueError:\n",
    "    print(\"Invalid date format. Use YYYY-MM-DD.\")\n",
    "    raise\n",
    "\n",
    "# Valid Tickets\n",
    "tickers = [ti.value.upper().strip() for ti in ticker_inputs if ti.value.strip() != '']\n",
    "\n",
    "plt.figure(figsize=(12, 6))\n",
    "\n",
    "# Download Data for each ticker\n",
    "for ticker in tickers:\n",
    "    data = yf.download(ticker, start=start_date, end=end_date, auto_adjust=True, progress=False)\n",
    "    \n",
    "    if data.empty:\n",
    "        print(f\"No data for {ticker}\")\n",
    "        continue\n",
    "\n",
    "    plt.plot(data.index, data['Close'], label=ticker)  # plotting lines \n",
    "    \n",
    "# Plot\n",
    "plt.title(f\"Stock Prices ({start_date} to {end_date})\")\n",
    "plt.xlabel(\"Date\")\n",
    "plt.ylabel(\"Adjusted Closing Price\")\n",
    "plt.legend()\n",
    "plt.grid(True)\n",
    "plt.tight_layout()\n",
    "plt.savefig(\"stock_plot.png\")\n",
    "plt.show()"
   ]
  },
  {
   "cell_type": "code",
   "execution_count": null,
   "id": "733fa721-e550-443e-bc37-aa2213acc9eb",
   "metadata": {},
   "outputs": [],
   "source": []
  }
 ],
 "metadata": {
  "kernelspec": {
   "display_name": "Python 3 (ipykernel)",
   "language": "python",
   "name": "python3"
  },
  "language_info": {
   "codemirror_mode": {
    "name": "ipython",
    "version": 3
   },
   "file_extension": ".py",
   "mimetype": "text/x-python",
   "name": "python",
   "nbconvert_exporter": "python",
   "pygments_lexer": "ipython3",
   "version": "3.13.0"
  }
 },
 "nbformat": 4,
 "nbformat_minor": 5
}
